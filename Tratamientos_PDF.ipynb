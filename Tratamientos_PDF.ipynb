{
  "nbformat": 4,
  "nbformat_minor": 0,
  "metadata": {
    "colab": {
      "provenance": []
    },
    "kernelspec": {
      "name": "python3",
      "display_name": "Python 3"
    },
    "language_info": {
      "name": "python"
    }
  },
  "cells": [
    {
      "cell_type": "code",
      "execution_count": 7,
      "metadata": {
        "colab": {
          "base_uri": "https://localhost:8080/"
        },
        "id": "fFFdgHcebPzD",
        "outputId": "d2c30c6a-419a-4548-df1e-5832560e94e6"
      },
      "outputs": [
        {
          "output_type": "stream",
          "name": "stdout",
          "text": [
            "Requirement already satisfied: PyPDF2 in /usr/local/lib/python3.10/dist-packages (3.0.1)\n",
            "Collecting pdfminer.six\n",
            "  Downloading pdfminer.six-20221105-py3-none-any.whl (5.6 MB)\n",
            "\u001b[2K     \u001b[90m━━━━━━━━━━━━━━━━━━━━━━━━━━━━━━━━━━━━━━━━\u001b[0m \u001b[32m5.6/5.6 MB\u001b[0m \u001b[31m44.6 MB/s\u001b[0m eta \u001b[36m0:00:00\u001b[0m\n",
            "\u001b[?25hRequirement already satisfied: charset-normalizer>=2.0.0 in /usr/local/lib/python3.10/dist-packages (from pdfminer.six) (3.2.0)\n",
            "Requirement already satisfied: cryptography>=36.0.0 in /usr/local/lib/python3.10/dist-packages (from pdfminer.six) (41.0.3)\n",
            "Requirement already satisfied: cffi>=1.12 in /usr/local/lib/python3.10/dist-packages (from cryptography>=36.0.0->pdfminer.six) (1.15.1)\n",
            "Requirement already satisfied: pycparser in /usr/local/lib/python3.10/dist-packages (from cffi>=1.12->cryptography>=36.0.0->pdfminer.six) (2.21)\n",
            "Installing collected packages: pdfminer.six\n",
            "Successfully installed pdfminer.six-20221105\n",
            "Collecting pdfplumber\n",
            "  Downloading pdfplumber-0.10.2-py3-none-any.whl (47 kB)\n",
            "\u001b[2K     \u001b[90m━━━━━━━━━━━━━━━━━━━━━━━━━━━━━━━━━━━━━━━\u001b[0m \u001b[32m47.5/47.5 kB\u001b[0m \u001b[31m963.6 kB/s\u001b[0m eta \u001b[36m0:00:00\u001b[0m\n",
            "\u001b[?25hRequirement already satisfied: pdfminer.six==20221105 in /usr/local/lib/python3.10/dist-packages (from pdfplumber) (20221105)\n",
            "Requirement already satisfied: Pillow>=9.1 in /usr/local/lib/python3.10/dist-packages (from pdfplumber) (9.4.0)\n",
            "Collecting pypdfium2>=4.18.0 (from pdfplumber)\n",
            "  Downloading pypdfium2-4.20.0-py3-none-manylinux_2_17_x86_64.whl (3.0 MB)\n",
            "\u001b[2K     \u001b[90m━━━━━━━━━━━━━━━━━━━━━━━━━━━━━━━━━━━━━━━━\u001b[0m \u001b[32m3.0/3.0 MB\u001b[0m \u001b[31m37.6 MB/s\u001b[0m eta \u001b[36m0:00:00\u001b[0m\n",
            "\u001b[?25hRequirement already satisfied: charset-normalizer>=2.0.0 in /usr/local/lib/python3.10/dist-packages (from pdfminer.six==20221105->pdfplumber) (3.2.0)\n",
            "Requirement already satisfied: cryptography>=36.0.0 in /usr/local/lib/python3.10/dist-packages (from pdfminer.six==20221105->pdfplumber) (41.0.3)\n",
            "Requirement already satisfied: cffi>=1.12 in /usr/local/lib/python3.10/dist-packages (from cryptography>=36.0.0->pdfminer.six==20221105->pdfplumber) (1.15.1)\n",
            "Requirement already satisfied: pycparser in /usr/local/lib/python3.10/dist-packages (from cffi>=1.12->cryptography>=36.0.0->pdfminer.six==20221105->pdfplumber) (2.21)\n",
            "Installing collected packages: pypdfium2, pdfplumber\n",
            "Successfully installed pdfplumber-0.10.2 pypdfium2-4.20.0\n",
            "Collecting pdf2image\n",
            "  Downloading pdf2image-1.16.3-py3-none-any.whl (11 kB)\n",
            "Requirement already satisfied: pillow in /usr/local/lib/python3.10/dist-packages (from pdf2image) (9.4.0)\n",
            "Installing collected packages: pdf2image\n",
            "Successfully installed pdf2image-1.16.3\n",
            "Requirement already satisfied: Pillow in /usr/local/lib/python3.10/dist-packages (9.4.0)\n"
          ]
        }
      ],
      "source": [
        "#para leer el archivo PDF desde la ruta del repositorio.\n",
        "!pip install PyPDF2\n",
        "#para realizar el análisis de diseño y extraer texto y formato del PDF. (la versión .six de la biblioteca es la que admite Python 3)\n",
        "!pip install pdfminer.six\n",
        "#para identificar tablas en una página PDF y extraer la información de ellas.\n",
        "!pip install pdfplumber\n",
        "#para convertir la imagen PDF recortada a una imagen PNG.\n",
        "!pip install pdf2image\n",
        "#Para leer la imagen PNG.\n",
        "!pip install Pillow"
      ]
    },
    {
      "cell_type": "code",
      "source": [
        "#para extraer el texto de las imágenes utilizando tecnología OCR.\n",
        "!pip install pytesseract\n",
        "\n",
        "#si el entonrno es en windows, primero debe instalar Google Tesseract OCR , que es una máquina de OCR basada en un modelo LSTM para identificar el reconocimiento de líneas y patrones de caracteres.\n",
        "#link ==> https://linuxhint.com/install-tesseract-windows/\n",
        "#pytesseract.pytesseract.tesseract_cmd = r'C:\\Program Files\\Tesseract-OCR\\tesseract.exe'\n"
      ],
      "metadata": {
        "colab": {
          "base_uri": "https://localhost:8080/"
        },
        "id": "KN03Uf1UcJgf",
        "outputId": "ffd0e59b-6380-4690-dc34-9ff48e930347"
      },
      "execution_count": 8,
      "outputs": [
        {
          "output_type": "stream",
          "name": "stdout",
          "text": [
            "Requirement already satisfied: pytesseract in /usr/local/lib/python3.10/dist-packages (0.3.10)\n",
            "Requirement already satisfied: packaging>=21.3 in /usr/local/lib/python3.10/dist-packages (from pytesseract) (23.1)\n",
            "Requirement already satisfied: Pillow>=8.0.0 in /usr/local/lib/python3.10/dist-packages (from pytesseract) (9.4.0)\n"
          ]
        }
      ]
    },
    {
      "cell_type": "code",
      "source": [
        "# To read the PDF\n",
        "import PyPDF2\n",
        "# To analyze the PDF layout and extract text\n",
        "from pdfminer.high_level import extract_pages, extract_text\n",
        "from pdfminer.layout import LTTextContainer, LTChar, LTRect, LTFigure\n",
        "# To extract text from tables in PDF\n",
        "import pdfplumber\n",
        "# To extract the images from the PDFs\n",
        "from PIL import Image\n",
        "from pdf2image import convert_from_path\n",
        "# To perform OCR to extract text from images\n",
        "import pytesseract\n",
        "# To remove the additional created files\n",
        "import os"
      ],
      "metadata": {
        "id": "jsUd9rkwc4OC"
      },
      "execution_count": 9,
      "outputs": []
    },
    {
      "cell_type": "markdown",
      "source": [
        "Para el análisis preliminar, utilizamos la biblioteca PDFMiner Python para separar el texto de un objeto de documento en múltiples objetos de página y luego desglosar y examinar el diseño de cada página. Los archivos PDF carecen inherentemente de información estructurada, como párrafos, oraciones o palabras vistas por el ojo humano. En cambio, sólo entienden los caracteres individuales del texto junto con su posición en la página."
      ],
      "metadata": {
        "id": "9rhjl1gEeIeG"
      }
    },
    {
      "cell_type": "code",
      "source": [
        "pdf_path = \"/content/Promt Paterns.pdf\"\n",
        "pdf_path"
      ],
      "metadata": {
        "colab": {
          "base_uri": "https://localhost:8080/",
          "height": 36
        },
        "id": "VV7TAHxhf4yt",
        "outputId": "d5107ce4-6324-4e0e-e597-a046185573a1"
      },
      "execution_count": 12,
      "outputs": [
        {
          "output_type": "execute_result",
          "data": {
            "text/plain": [
              "'/content/Promt Paterns.pdf'"
            ],
            "application/vnd.google.colaboratory.intrinsic+json": {
              "type": "string"
            }
          },
          "metadata": {},
          "execution_count": 12
        }
      ]
    },
    {
      "cell_type": "code",
      "source": [
        "for pagenum, page in enumerate(extract_pages(pdf_path)):\n",
        "\n",
        "    # Iterar los elementos que componen una página\n",
        "    for element in page:\n",
        "\n",
        "        # Comprobar si el elemento es un elemento de texto\n",
        "        if isinstance(element, LTTextContainer):\n",
        "            # Function to extract text from the text block\n",
        "            pass\n",
        "            # Función para extraer formato de texto\n",
        "            pass\n",
        "\n",
        "        # Verifique los elementos para imágenes\n",
        "        if isinstance(element, LTFigure):\n",
        "            # Función para convertir PDF a imagen\n",
        "            pass\n",
        "            # Función para extraer texto con OCR\n",
        "            pass\n",
        "\n",
        "        # Check the elements for tables\n",
        "        if isinstance(element, LTRect):\n",
        "            # Función para extraer la tabla\n",
        "            pass\n",
        "            # Función para convertir el contenido de la tabla en un string\n",
        "            pass"
      ],
      "metadata": {
        "id": "glum-9-weIKu"
      },
      "execution_count": 13,
      "outputs": []
    },
    {
      "cell_type": "markdown",
      "source": [
        "#Definir la función para extraer texto de PDF\n",
        "Entonces, para extraer texto de un contenedor de texto, simplemente usamos el método get_text () del elemento LTTextContainer. Este método recupera todos los caracteres que componen las palabras dentro del cuadro de corpus específico, almacenando el resultado en una lista de datos de texto. Cada elemento de esta lista representa la información textual sin procesar contenida en el contenedor.\n",
        "\n",
        "Ahora, para identificar el formato de este texto, iteramos a través del objeto LTTextContainer para acceder a cada línea de texto de este corpus individualmente. En cada iteración, se crea un nuevo objeto LTTextLine , que representa una línea de texto en este fragmento de corpus. Luego examinamos si el elemento de línea anidado contiene texto. Si es así, accedemos a cada elemento de carácter individual como LTChar, que contiene todos los metadatos de ese carácter. De estos metadatos, extraemos dos tipos de formatos y los almacenamos en una lista separada, ubicada correspondientemente al texto examinado:\n",
        "\n",
        "La familia de fuentes de los caracteres, incluido si el carácter está en formato negrita o cursiva.\n",
        "El tamaño de fuente del carácter.\n",
        "Generalmente, los caracteres dentro de un fragmento específico de texto tienden a tener un formato consistente a menos que algunos estén resaltados en negrita. Para facilitar un análisis más detallado, capturamos los valores únicos de formato de texto para todos los caracteres del texto y los almacenamos en la lista adecuada.\n",
        "\n"
      ],
      "metadata": {
        "id": "ScpurhIMeWmx"
      }
    },
    {
      "cell_type": "code",
      "source": [
        "# Crear una función para extraer texto\n",
        "\n",
        "def text_extraction(element):\n",
        "    # Extraer el texto del elemento de texto en línea\n",
        "    line_text = element.get_text()\n",
        "\n",
        "    # Encontrar los formatos del texto\n",
        "    # Inicializar la lista con todos los formatos que aparecieron en el línea de texto\n",
        "    line_formats = []\n",
        "    for text_line in element:\n",
        "        if isinstance(text_line, LTTextContainer):\n",
        "            # Iterando a través de cada carácter en la línea de texto\n",
        "            for character in text_line:\n",
        "                if isinstance(character, LTChar):\n",
        "                    # Agregue el nombre de fuente del personaje\n",
        "                    line_formats.append(character.fontname)\n",
        "                    # Agrega el tamaño de fuente del carácter\n",
        "                    line_formats.append(character.size)\n",
        "    # Encuentra los tamaños de fuente únicos y los nombres en la línea\n",
        "    format_per_line = list(set(line_formats))\n",
        "\n",
        "    # Devuelve una tupla con el texto en cada línea junto con su formato\n",
        "    return (line_text, format_per_line)"
      ],
      "metadata": {
        "id": "vKSORCm-eWYx"
      },
      "execution_count": null,
      "outputs": []
    },
    {
      "cell_type": "markdown",
      "source": [
        "# Definir la función para extraer texto de imágenes\n",
        "En primer lugar, debemos establecer aquí que los elementos de imagen almacenados en archivos PDF no estén en un formato diferente al del archivo, como JPEG o PNG. De esa manera, para aplicarles el software OCR, primero debemos separarlos del archivo y luego convertirlos a un formato de imagen.\n",
        "\n",
        "Para lograrlo seguimos el siguiente proceso:\n",
        "\n",
        "Usamos los metadatos del objeto LTFigure detectado por PDFMiner para recortar el cuadro de imagen, utilizando sus coordenadas en el diseño de la página. Luego lo guardamos como un nuevo PDF en nuestro directorio usando la biblioteca PyPDF2 .\n",
        "Luego empleamos la función convert_from_file () de la biblioteca pdf2image para convertir todos los archivos PDF en el directorio en una lista de imágenes, guardándolas en formato PNG.\n",
        "Finalmente, ahora que tenemos nuestros archivos de imagen, los leemos en nuestro script usando el paquete Imagen del módulo PIL e implementamos la función image_to_string () de pytesseract para extraer texto de las imágenes usando el motor OCR tesseract.\n",
        "Como resultado, este proceso devuelve el texto de las imágenes, que luego guardamos en una tercera lista dentro del diccionario de salida. Esta lista contiene la información textual extraída de las imágenes de la página examinada."
      ],
      "metadata": {
        "id": "GUxbPXrTfnJt"
      }
    },
    {
      "cell_type": "code",
      "source": [
        "# Crear una función para recortar los elementos de la imagen de los archivos PDF\n",
        "def crop_image(element, pageObj):\n",
        "    # Obtener las coordenadas para recortar la imagen del PDF\n",
        "    [image_left, image_top, image_right, image_bottom] = [element.x0,element.y0,element.x1,element.y1]\n",
        "    # Recorta la página usando coordenadas (izquierda, abajo, derecha, arriba)\n",
        "    pageObj.mediabox.lower_left = (image_left, image_bottom)\n",
        "    pageObj.mediabox.upper_right = (image_right, image_top)\n",
        "    # Guarda la página recortada en un nuevo PDF\n",
        "    cropped_pdf_writer = PyPDF2.PdfWriter()\n",
        "    cropped_pdf_writer.add_page(pageObj)\n",
        "    # Guarde el PDF recortado en un nuevo archivo\n",
        "    with open('cropped_image.pdf', 'wb') as cropped_pdf_file:\n",
        "        cropped_pdf_writer.write(cropped_pdf_file)\n",
        "\n",
        "# Crea una función para convertir el PDF a imágenes\n",
        "def convert_to_images(input_file,):\n",
        "    images = convert_from_path(input_file)\n",
        "    image = images[0]\n",
        "    output_file = \"PDF_image.png\"\n",
        "    image.save(output_file, \"PNG\")\n",
        "\n",
        "# Crea una función para leer texto de imágenes\n",
        "def image_to_text(image_path):\n",
        "    # Lee la imagen\n",
        "    img = Image.open(image_path)\n",
        "    # Extrae el texto de la imagen\n",
        "    text = pytesseract.image_to_string(img)\n",
        "    return text"
      ],
      "metadata": {
        "id": "Sb7MVOW0fnD4"
      },
      "execution_count": 15,
      "outputs": []
    },
    {
      "cell_type": "markdown",
      "source": [
        "#Definir la función para extraer texto de Tablas\n",
        "\n",
        "Para abordar esta tarea utilizamos la biblioteca pdfplomber por varios motivos. En primer lugar, está construido sobre pdfminer.six que utilizamos para nuestro análisis preliminar, lo que significa que contiene objetos similares. Además, su enfoque para la detección de tablas se basa en elementos de línea junto con sus intersecciones que construyen la celda que contiene el texto y luego la tabla misma. De esa manera, después de identificar una celda de una tabla, podemos extraer solo el contenido dentro de la celda sin tener que saber cuántas filas deben representarse. Luego, cuando tengamos el contenido de una tabla, le daremos formato en una cadena similar a una tabla y la almacenaremos en la lista apropiada.\n",
        "\n",
        "Para lograr eso, creamos dos funciones, extract_table() para extraer el contenido de la tabla en una lista de listas, y table_converter() para unir el contenido de esas listas en una cadena similar a una tabla.\n",
        "\n",
        "En la función extract_table() :\n",
        "\n",
        "Abrimos el archivo PDF.\n",
        "Navegamos hasta la página examinada del archivo PDF.\n",
        "De la lista de tablas que se encuentra en la página de pdfplomber, seleccionamos la deseada.\n",
        "Extraemos el contenido de la tabla y lo generamos en una lista de listas anidadas que representan cada fila de la tabla.\n",
        "\n",
        "En la función table_converter() :\n",
        "\n",
        "Iteramos en cada lista anidada y limpiamos su contexto de cualquier salto de línea no deseado proveniente de cualquier texto ajustado.\n",
        "Unimos cada elemento de la fila separándolos mediante la tecla | símbolo para crear la estructura de la celda de una tabla.\n",
        "Finalmente, agregamos un salto de línea al final para pasar a la siguiente fila.\n",
        "Esto dará como resultado una cadena de texto que presentará el contenido de la tabla sin perder la granularidad de los datos presentados en ella"
      ],
      "metadata": {
        "id": "Tx0II2CAiQg9"
      }
    },
    {
      "cell_type": "code",
      "source": [
        "# Extraer tablas de la página\n",
        "\n",
        "def extract_table(pdf_path, page_num, table_num):\n",
        "    # Abrir el archivo pdf\n",
        "    pdf = pdfplumber.open(pdf_path)\n",
        "    # Encuentra la página examinada\n",
        "    table_page = pdf.pages[page_num]\n",
        "    # Extrae la tabla apropiada\n",
        "    table = table_page.extract_tables()[table_num]\n",
        "    return table\n",
        "\n",
        "# Convierte la tabla al formato apropiado\n",
        "def table_converter(table):\n",
        "    table_string = ''\n",
        "    # Iterar a través de cada fila de la tabla\n",
        "    for row_num in range(len(table)):\n",
        "        row = table[row_num]\n",
        "        # Elimina el salto de línea de los textos ajustados.\n",
        "        cleaned_row = [item.replace('\\n', ' ') if item is not None and '\\n' in item else 'None' if item is None else item for item in row]\n",
        "        # Convertimos la tabla a string\n",
        "        table_string+=('|'+'|'.join(cleaned_row)+'|'+'\\n')\n",
        "    # Eliminamos el último salto de línea\n",
        "    table_string = table_string[:-1]\n",
        "    return table_string"
      ],
      "metadata": {
        "id": "h2Tl3CziiQao"
      },
      "execution_count": null,
      "outputs": []
    },
    {
      "cell_type": "markdown",
      "source": [
        "#Unimos todo junto.\n",
        "\n",
        "Importe las bibliotecas necesarias.\n",
        "\n",
        "Abra el archivo PDF usando la biblioteca pyPDF2 .\n",
        "\n",
        "Extraiga cada página del PDF y repita los siguientes pasos.\n",
        "\n",
        "Examine si hay tablas en la página y cree una lista de ellas usando pdfplumner.\n",
        "\n",
        "Encuentre todos los elementos anidados en la página y ordénelos tal como aparecieron en su diseño.\n",
        "\n",
        "Luego para cada elemento:\n",
        "\n",
        "Examina si es un contenedor de texto y no aparece en un elemento de tabla. Luego use la función text_extraction () para extraer el texto junto con su formato; de lo contrario, pase este texto.\n",
        "\n",
        "Examine si es una imagen y use la función crop_image () para recortar el componente de imagen del PDF, conviértalo en un archivo de imagen usando convert_to_images ( ) y extraiga texto usando OCR con la función image_to_text ().\n",
        "\n",
        "Examina si es un elemento rectangular. En este caso, examinamos si el primer rect es parte de la tabla de una página y, en caso afirmativo, pasamos a los siguientes pasos:\n",
        "\n",
        "Busque el cuadro delimitador de la tabla para no volver a extraer su texto con la función text_extraction().\n",
        "Extrae el contenido de la tabla y conviértelo en una cadena.\n",
        "Luego agregue un parámetro booleano para aclarar que extraemos texto de la tabla.\n",
        "Este proceso finalizará después del último LTRect que cae en el cuadro delimitador de la tabla y el siguiente elemento en el diseño no es un objeto rectangular. (Se pasarán todos los demás objetos que componen la tabla)\n",
        "Las salidas del proceso se almacenarán en 5 listas por iteración, denominadas:\n",
        "\n",
        "page_text: contiene el texto proveniente de contenedores de texto en el PDF (el marcador de posición se colocará cuando el texto se extraiga de otro elemento)\n",
        "line_format: contiene los formatos de los textos extraídos arriba (el marcador de posición se colocará cuando el texto se extraiga de otro elemento)\n",
        "text_from_images: contiene los textos extraídos de las imágenes de la página\n",
        "text_from_tables: contiene la cadena similar a una tabla con el contenido de las tablas\n",
        "page_content: contiene todo el texto representado en la página en una lista de elementos\n",
        "Todas las listas se almacenarán bajo la clave de un diccionario que representará el número de página examinada cada vez.\n",
        "\n",
        "Posteriormente cerraremos el archivo PDF.\n",
        "\n",
        "Luego eliminaremos todos los archivos adicionales creados durante el proceso.\n",
        "\n",
        "Por último, podemos mostrar el contenido de la página uniendo los elementos de la lista page_content.\n",
        "\n"
      ],
      "metadata": {
        "id": "0gTHFkAWkw5R"
      }
    },
    {
      "cell_type": "code",
      "source": [
        "# Encuentra la ruta del PDF\n",
        "pdf_path = 'OFFER 3.pdf'\n",
        "\n",
        "# crea un objeto de archivo PDF\n",
        "pdfFileObj = open(pdf_path, 'rb')\n",
        "# crea un objeto de lector de PDF\n",
        "pdfReaded = PyPDF2.PdfReader(pdfFileObj)\n",
        "\n",
        "# Crea el diccionario para extraer texto de cada imagen\n",
        "text_per_page = {}\n",
        "# Extraemos las páginas del PDF\n",
        "for pagenum, page in enumerate(extract_pages(pdf_path)):\n",
        "\n",
        "    # Inicializamos las variables necesarias para la extracción de texto de la página\n",
        "    pageObj = pdfReaded.pages[pagenum]\n",
        "    page_text = []\n",
        "    line_format = []\n",
        "    text_from_images = []\n",
        "    text_from_tables = []\n",
        "    page_content = []\n",
        "    # Inicializa el número de tablas examinadas\n",
        "    table_num = 0\n",
        "    first_element= True\n",
        "    table_extraction_flag= False\n",
        "    # Abre el archivo pdf\n",
        "    pdf = pdfplumber.open(pdf_path)\n",
        "    # Encuentra la página examinada\n",
        "    page_tables = pdf.pages[pagenum]\n",
        "    # Encuentra el número de tablas en la página\n",
        "    tables = page_tables.find_tables()\n",
        "\n",
        "\n",
        "    # Encuentra todos los elementos\n",
        "    page_elements = [(element.y1, element) for element in page._objs]\n",
        "    # Ordena todos los elementos tal como aparecen en la página\n",
        "    page_elements.sort(key=lambda a: a[0], reverse=True)\n",
        "\n",
        "    # Encuentra los elementos que componen una página\n",
        "    for i,component in enumerate(page_elements):\n",
        "        # Extrae la posición de la parte superior del elemento en el PDF\n",
        "        pos= component[0]\n",
        "        # Extrae el elemento de diseño de página\n",
        "        element = component[1]\n",
        "\n",
        "        # Verifique si el elemento es un elemento de texto\n",
        "        if isinstance(element, LTTextContainer):\n",
        "            # Verifique si el texto apareció en una tabla\n",
        "            if table_extraction_flag == False:\n",
        "                # Use la función para extraer el texto y formato para cada elemento de texto\n",
        "                (line_text, format_per_line) = text_extraction(element)\n",
        "                # Agregar el texto de cada línea al texto de la página\n",
        "                page_text.append(line_text)\n",
        "                # Agregar el formato para cada línea que contiene texto\n",
        "                line_format.append(format_per_line)\n",
        "                page_content.append(line_text)\n",
        "            else:\n",
        "                # Omitir el texto que apareció en una tabla\n",
        "                pass\n",
        "\n",
        "        # Verificar los elementos en busca de imágenes\n",
        "        if isinstance(element, LTFigure):\n",
        "            # Recortar la imagen del PDF\n",
        "            crop_image(element, pageObj)\n",
        "            # Convertir el pdf recortado en una imagen\n",
        "            convert_to_images('cropped_image.pdf')\n",
        "            # Extraer el texto de la imagen\n",
        "            image_text = image_to_text('PDF_image.png')\n",
        "            text_from_images.append(image_text)\n",
        "            page_content.append(image_text)\n",
        "            # Agregar un marcador de posición en las listas de texto y formato\n",
        "            page_text.append('image')\n",
        "            line_format.append('image')\n",
        "\n",
        "        # Verifique los elementos de las tablas\n",
        "        if isinstance(element, LTRect):\n",
        "            # Si el primer elemento rectangular\n",
        "            if first_element == True and (table_num+1) <= len(tables):\n",
        "                # Encuentre el cuadro delimitador de la tabla\n",
        "                lower_side = page.bbox[3] - tables[table_num].bbox[3]\n",
        "                upper_side = element.y1\n",
        "                # Extraer la información de la tabla\n",
        "                table = extract_table(pdf_path, pagenum, table_num)\n",
        "                # Convertir la información de la tabla en formato de cadena estructurada\n",
        "                table_string = table_converter(table)\n",
        "                # Agrega la cadena de la tabla a una lista\n",
        "                text_from_tables.append(table_string)\n",
        "                page_content.append(table_string)\n",
        "                # Establece como True para evitar el contenido nuevamente\n",
        "                table_extraction_flag = True\n",
        "                # Conviértelo en otro elemento\n",
        "                first_element = False\n",
        "                # Agregar un marcador de posición en las listas de texto y formato\n",
        "                page_text.append('table')\n",
        "                line_format.append('table')\n",
        "\n",
        "            # Comprobar si ya extrajimos las tablas de la página\n",
        "            if element.y0 >= lower_side and element.y1 <= upper_side:\n",
        "                pass\n",
        "            elif not isinstance(page_elements[i+1][1], LTRect):\n",
        "                table_extraction_flag = False\n",
        "                first_element = True\n",
        "                table_num+=1\n",
        "\n",
        "\n",
        "    # Crear la clave del diccionario\n",
        "    dctkey = 'Page_'+str(pagenum)\n",
        "    # Agregar la lista de listas como el valor de la clave de página\n",
        "    text_per_page[dctkey]= [page_text, line_format, text_from_images,text_from_tables, page_content]\n",
        "\n",
        "# Cerrar el objeto del archivo pdf\n",
        "pdfFileObj.close()\n",
        "\n",
        "# Eliminar los archivos adicionales creados\n",
        "os.remove('cropped_image.pdf')\n",
        "os.remove('PDF_image.png')\n",
        "\n",
        "# Mostrar el contenido de la página\n",
        "result = ''.join(text_per_page['Page_0'][4])\n",
        "print(result)\n"
      ],
      "metadata": {
        "id": "k0AQ21ugk_j2"
      },
      "execution_count": null,
      "outputs": []
    }
  ]
}